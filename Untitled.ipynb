{
 "cells": [
  {
   "cell_type": "code",
   "execution_count": 1,
   "metadata": {},
   "outputs": [],
   "source": [
    "import numpy as np\n",
    "import pandas as pd\n",
    "from datetime import *\n",
    "import math\n",
    "import json"
   ]
  },
  {
   "cell_type": "code",
   "execution_count": 2,
   "metadata": {},
   "outputs": [],
   "source": [
    "data = pd.read_csv(\"doctors.csv\")"
   ]
  },
  {
   "cell_type": "code",
   "execution_count": 3,
   "metadata": {},
   "outputs": [
    {
     "name": "stdout",
     "output_type": "stream",
     "text": [
      "05:56:00\n"
     ]
    }
   ],
   "source": [
    "tim = datetime.now().time().strftime('%H:%M')\n",
    "tim = datetime.strptime(tim, \"%H:%M\").time()\n",
    "print(tim)"
   ]
  },
  {
   "cell_type": "code",
   "execution_count": 4,
   "metadata": {},
   "outputs": [
    {
     "data": {
      "text/html": [
       "<div>\n",
       "<style scoped>\n",
       "    .dataframe tbody tr th:only-of-type {\n",
       "        vertical-align: middle;\n",
       "    }\n",
       "\n",
       "    .dataframe tbody tr th {\n",
       "        vertical-align: top;\n",
       "    }\n",
       "\n",
       "    .dataframe thead th {\n",
       "        text-align: right;\n",
       "    }\n",
       "</style>\n",
       "<table border=\"1\" class=\"dataframe\">\n",
       "  <thead>\n",
       "    <tr style=\"text-align: right;\">\n",
       "      <th></th>\n",
       "      <th>doctor_id</th>\n",
       "      <th>doctor_name</th>\n",
       "      <th>specialization</th>\n",
       "      <th>free_from</th>\n",
       "      <th>doctor_to</th>\n",
       "      <th>hosp_id</th>\n",
       "      <th>latitude</th>\n",
       "      <th>longitude</th>\n",
       "    </tr>\n",
       "  </thead>\n",
       "  <tbody>\n",
       "    <tr>\n",
       "      <th>0</th>\n",
       "      <td>963</td>\n",
       "      <td>Akshat B</td>\n",
       "      <td>Gynacologist</td>\n",
       "      <td>12:00</td>\n",
       "      <td>17:00</td>\n",
       "      <td>632014</td>\n",
       "      <td>23.0343</td>\n",
       "      <td>182.3453</td>\n",
       "    </tr>\n",
       "    <tr>\n",
       "      <th>1</th>\n",
       "      <td>741</td>\n",
       "      <td>Banana Prasad</td>\n",
       "      <td>Psychiatrist</td>\n",
       "      <td>17:30</td>\n",
       "      <td>23:50</td>\n",
       "      <td>632014</td>\n",
       "      <td>345.2200</td>\n",
       "      <td>1002.4322</td>\n",
       "    </tr>\n",
       "    <tr>\n",
       "      <th>2</th>\n",
       "      <td>623</td>\n",
       "      <td>ABC</td>\n",
       "      <td>Psychiatrist</td>\n",
       "      <td>22:00</td>\n",
       "      <td>1:00</td>\n",
       "      <td>632014</td>\n",
       "      <td>220.0000</td>\n",
       "      <td>8.0000</td>\n",
       "    </tr>\n",
       "    <tr>\n",
       "      <th>3</th>\n",
       "      <td>428</td>\n",
       "      <td>DEF</td>\n",
       "      <td>Psychiatrist</td>\n",
       "      <td>20:30</td>\n",
       "      <td>23:30</td>\n",
       "      <td>632014</td>\n",
       "      <td>220.0000</td>\n",
       "      <td>8.0000</td>\n",
       "    </tr>\n",
       "    <tr>\n",
       "      <th>4</th>\n",
       "      <td>341</td>\n",
       "      <td>GHI</td>\n",
       "      <td>Psychiatrist</td>\n",
       "      <td>00:30</td>\n",
       "      <td>10:00</td>\n",
       "      <td>632014</td>\n",
       "      <td>344.0000</td>\n",
       "      <td>222.0000</td>\n",
       "    </tr>\n",
       "  </tbody>\n",
       "</table>\n",
       "</div>"
      ],
      "text/plain": [
       "   doctor_id    doctor_name specialization free_from doctor_to  hosp_id  \\\n",
       "0        963       Akshat B   Gynacologist     12:00     17:00   632014   \n",
       "1        741  Banana Prasad   Psychiatrist     17:30     23:50   632014   \n",
       "2        623            ABC   Psychiatrist     22:00      1:00   632014   \n",
       "3        428            DEF   Psychiatrist     20:30     23:30   632014   \n",
       "4        341            GHI   Psychiatrist     00:30     10:00   632014   \n",
       "\n",
       "   latitude  longitude  \n",
       "0   23.0343   182.3453  \n",
       "1  345.2200  1002.4322  \n",
       "2  220.0000     8.0000  \n",
       "3  220.0000     8.0000  \n",
       "4  344.0000   222.0000  "
      ]
     },
     "execution_count": 4,
     "metadata": {},
     "output_type": "execute_result"
    }
   ],
   "source": [
    "data"
   ]
  },
  {
   "cell_type": "code",
   "execution_count": 6,
   "metadata": {},
   "outputs": [
    {
     "name": "stdout",
     "output_type": "stream",
     "text": [
      "Enter the specialization: Psychiatrist\n"
     ]
    },
    {
     "data": {
      "text/html": [
       "<div>\n",
       "<style scoped>\n",
       "    .dataframe tbody tr th:only-of-type {\n",
       "        vertical-align: middle;\n",
       "    }\n",
       "\n",
       "    .dataframe tbody tr th {\n",
       "        vertical-align: top;\n",
       "    }\n",
       "\n",
       "    .dataframe thead th {\n",
       "        text-align: right;\n",
       "    }\n",
       "</style>\n",
       "<table border=\"1\" class=\"dataframe\">\n",
       "  <thead>\n",
       "    <tr style=\"text-align: right;\">\n",
       "      <th></th>\n",
       "      <th>free_from</th>\n",
       "      <th>doctor_to</th>\n",
       "      <th>doctor_id</th>\n",
       "      <th>latitude</th>\n",
       "      <th>longitude</th>\n",
       "    </tr>\n",
       "  </thead>\n",
       "  <tbody>\n",
       "    <tr>\n",
       "      <th>1</th>\n",
       "      <td>17:30</td>\n",
       "      <td>23:50</td>\n",
       "      <td>741</td>\n",
       "      <td>345.22</td>\n",
       "      <td>1002.4322</td>\n",
       "    </tr>\n",
       "    <tr>\n",
       "      <th>2</th>\n",
       "      <td>22:00</td>\n",
       "      <td>1:00</td>\n",
       "      <td>623</td>\n",
       "      <td>220.00</td>\n",
       "      <td>8.0000</td>\n",
       "    </tr>\n",
       "    <tr>\n",
       "      <th>3</th>\n",
       "      <td>20:30</td>\n",
       "      <td>23:30</td>\n",
       "      <td>428</td>\n",
       "      <td>220.00</td>\n",
       "      <td>8.0000</td>\n",
       "    </tr>\n",
       "    <tr>\n",
       "      <th>4</th>\n",
       "      <td>00:30</td>\n",
       "      <td>10:00</td>\n",
       "      <td>341</td>\n",
       "      <td>344.00</td>\n",
       "      <td>222.0000</td>\n",
       "    </tr>\n",
       "  </tbody>\n",
       "</table>\n",
       "</div>"
      ],
      "text/plain": [
       "  free_from doctor_to  doctor_id  latitude  longitude\n",
       "1     17:30     23:50        741    345.22  1002.4322\n",
       "2     22:00      1:00        623    220.00     8.0000\n",
       "3     20:30     23:30        428    220.00     8.0000\n",
       "4     00:30     10:00        341    344.00   222.0000"
      ]
     },
     "execution_count": 6,
     "metadata": {},
     "output_type": "execute_result"
    }
   ],
   "source": [
    "id = data[data['specialization'] == input(\"Enter the specialization: \")][['free_from', 'doctor_to', 'doctor_id', 'latitude', 'longitude']]\n",
    "id"
   ]
  },
  {
   "cell_type": "code",
   "execution_count": 7,
   "metadata": {},
   "outputs": [],
   "source": [
    "temp = id[['free_from', 'doctor_to']].apply(lambda x: [datetime.strptime(i, '%H:%M').time() for i in x])"
   ]
  },
  {
   "cell_type": "code",
   "execution_count": 8,
   "metadata": {},
   "outputs": [
    {
     "data": {
      "text/html": [
       "<div>\n",
       "<style scoped>\n",
       "    .dataframe tbody tr th:only-of-type {\n",
       "        vertical-align: middle;\n",
       "    }\n",
       "\n",
       "    .dataframe tbody tr th {\n",
       "        vertical-align: top;\n",
       "    }\n",
       "\n",
       "    .dataframe thead th {\n",
       "        text-align: right;\n",
       "    }\n",
       "</style>\n",
       "<table border=\"1\" class=\"dataframe\">\n",
       "  <thead>\n",
       "    <tr style=\"text-align: right;\">\n",
       "      <th></th>\n",
       "      <th>free_from</th>\n",
       "      <th>doctor_to</th>\n",
       "    </tr>\n",
       "  </thead>\n",
       "  <tbody>\n",
       "    <tr>\n",
       "      <th>1</th>\n",
       "      <td>17:30:00</td>\n",
       "      <td>23:50:00</td>\n",
       "    </tr>\n",
       "    <tr>\n",
       "      <th>2</th>\n",
       "      <td>22:00:00</td>\n",
       "      <td>01:00:00</td>\n",
       "    </tr>\n",
       "    <tr>\n",
       "      <th>3</th>\n",
       "      <td>20:30:00</td>\n",
       "      <td>23:30:00</td>\n",
       "    </tr>\n",
       "    <tr>\n",
       "      <th>4</th>\n",
       "      <td>00:30:00</td>\n",
       "      <td>10:00:00</td>\n",
       "    </tr>\n",
       "  </tbody>\n",
       "</table>\n",
       "</div>"
      ],
      "text/plain": [
       "  free_from doctor_to\n",
       "1  17:30:00  23:50:00\n",
       "2  22:00:00  01:00:00\n",
       "3  20:30:00  23:30:00\n",
       "4  00:30:00  10:00:00"
      ]
     },
     "execution_count": 8,
     "metadata": {},
     "output_type": "execute_result"
    }
   ],
   "source": [
    "temp"
   ]
  },
  {
   "cell_type": "code",
   "execution_count": 9,
   "metadata": {},
   "outputs": [
    {
     "data": {
      "text/html": [
       "<div>\n",
       "<style scoped>\n",
       "    .dataframe tbody tr th:only-of-type {\n",
       "        vertical-align: middle;\n",
       "    }\n",
       "\n",
       "    .dataframe tbody tr th {\n",
       "        vertical-align: top;\n",
       "    }\n",
       "\n",
       "    .dataframe thead th {\n",
       "        text-align: right;\n",
       "    }\n",
       "</style>\n",
       "<table border=\"1\" class=\"dataframe\">\n",
       "  <thead>\n",
       "    <tr style=\"text-align: right;\">\n",
       "      <th></th>\n",
       "      <th>free_from</th>\n",
       "      <th>doctor_to</th>\n",
       "      <th>doctor_id</th>\n",
       "      <th>latitude</th>\n",
       "      <th>longitude</th>\n",
       "    </tr>\n",
       "  </thead>\n",
       "  <tbody>\n",
       "    <tr>\n",
       "      <th>1</th>\n",
       "      <td>17:30</td>\n",
       "      <td>23:50</td>\n",
       "      <td>741</td>\n",
       "      <td>345.22</td>\n",
       "      <td>1002.4322</td>\n",
       "    </tr>\n",
       "    <tr>\n",
       "      <th>2</th>\n",
       "      <td>22:00</td>\n",
       "      <td>1:00</td>\n",
       "      <td>623</td>\n",
       "      <td>220.00</td>\n",
       "      <td>8.0000</td>\n",
       "    </tr>\n",
       "    <tr>\n",
       "      <th>3</th>\n",
       "      <td>20:30</td>\n",
       "      <td>23:30</td>\n",
       "      <td>428</td>\n",
       "      <td>220.00</td>\n",
       "      <td>8.0000</td>\n",
       "    </tr>\n",
       "    <tr>\n",
       "      <th>4</th>\n",
       "      <td>00:30</td>\n",
       "      <td>10:00</td>\n",
       "      <td>341</td>\n",
       "      <td>344.00</td>\n",
       "      <td>222.0000</td>\n",
       "    </tr>\n",
       "  </tbody>\n",
       "</table>\n",
       "</div>"
      ],
      "text/plain": [
       "  free_from doctor_to  doctor_id  latitude  longitude\n",
       "1     17:30     23:50        741    345.22  1002.4322\n",
       "2     22:00      1:00        623    220.00     8.0000\n",
       "3     20:30     23:30        428    220.00     8.0000\n",
       "4     00:30     10:00        341    344.00   222.0000"
      ]
     },
     "execution_count": 9,
     "metadata": {},
     "output_type": "execute_result"
    }
   ],
   "source": [
    "id"
   ]
  },
  {
   "cell_type": "code",
   "execution_count": 10,
   "metadata": {},
   "outputs": [],
   "source": [
    "result = pd.concat([id[['doctor_id', 'latitude', 'longitude']], temp], axis = 1, join_axes = [id.index])"
   ]
  },
  {
   "cell_type": "code",
   "execution_count": 11,
   "metadata": {},
   "outputs": [
    {
     "data": {
      "text/html": [
       "<div>\n",
       "<style scoped>\n",
       "    .dataframe tbody tr th:only-of-type {\n",
       "        vertical-align: middle;\n",
       "    }\n",
       "\n",
       "    .dataframe tbody tr th {\n",
       "        vertical-align: top;\n",
       "    }\n",
       "\n",
       "    .dataframe thead th {\n",
       "        text-align: right;\n",
       "    }\n",
       "</style>\n",
       "<table border=\"1\" class=\"dataframe\">\n",
       "  <thead>\n",
       "    <tr style=\"text-align: right;\">\n",
       "      <th></th>\n",
       "      <th>doctor_id</th>\n",
       "      <th>latitude</th>\n",
       "      <th>longitude</th>\n",
       "      <th>free_from</th>\n",
       "      <th>doctor_to</th>\n",
       "    </tr>\n",
       "  </thead>\n",
       "  <tbody>\n",
       "    <tr>\n",
       "      <th>1</th>\n",
       "      <td>741</td>\n",
       "      <td>345.22</td>\n",
       "      <td>1002.4322</td>\n",
       "      <td>17:30:00</td>\n",
       "      <td>23:50:00</td>\n",
       "    </tr>\n",
       "    <tr>\n",
       "      <th>2</th>\n",
       "      <td>623</td>\n",
       "      <td>220.00</td>\n",
       "      <td>8.0000</td>\n",
       "      <td>22:00:00</td>\n",
       "      <td>01:00:00</td>\n",
       "    </tr>\n",
       "    <tr>\n",
       "      <th>3</th>\n",
       "      <td>428</td>\n",
       "      <td>220.00</td>\n",
       "      <td>8.0000</td>\n",
       "      <td>20:30:00</td>\n",
       "      <td>23:30:00</td>\n",
       "    </tr>\n",
       "    <tr>\n",
       "      <th>4</th>\n",
       "      <td>341</td>\n",
       "      <td>344.00</td>\n",
       "      <td>222.0000</td>\n",
       "      <td>00:30:00</td>\n",
       "      <td>10:00:00</td>\n",
       "    </tr>\n",
       "  </tbody>\n",
       "</table>\n",
       "</div>"
      ],
      "text/plain": [
       "   doctor_id  latitude  longitude free_from doctor_to\n",
       "1        741    345.22  1002.4322  17:30:00  23:50:00\n",
       "2        623    220.00     8.0000  22:00:00  01:00:00\n",
       "3        428    220.00     8.0000  20:30:00  23:30:00\n",
       "4        341    344.00   222.0000  00:30:00  10:00:00"
      ]
     },
     "execution_count": 11,
     "metadata": {},
     "output_type": "execute_result"
    }
   ],
   "source": [
    "result"
   ]
  },
  {
   "cell_type": "code",
   "execution_count": 12,
   "metadata": {},
   "outputs": [
    {
     "name": "stderr",
     "output_type": "stream",
     "text": [
      "/home/hritik/.local/lib/python3.6/site-packages/ipykernel_launcher.py:2: UserWarning: Boolean Series key will be reindexed to match DataFrame index.\n",
      "  \n"
     ]
    }
   ],
   "source": [
    "result2 = result[tim > result['free_from']]\n",
    "result2 = result2[tim < result['doctor_to']]"
   ]
  },
  {
   "cell_type": "code",
   "execution_count": 13,
   "metadata": {},
   "outputs": [
    {
     "data": {
      "text/html": [
       "<div>\n",
       "<style scoped>\n",
       "    .dataframe tbody tr th:only-of-type {\n",
       "        vertical-align: middle;\n",
       "    }\n",
       "\n",
       "    .dataframe tbody tr th {\n",
       "        vertical-align: top;\n",
       "    }\n",
       "\n",
       "    .dataframe thead th {\n",
       "        text-align: right;\n",
       "    }\n",
       "</style>\n",
       "<table border=\"1\" class=\"dataframe\">\n",
       "  <thead>\n",
       "    <tr style=\"text-align: right;\">\n",
       "      <th></th>\n",
       "      <th>doctor_id</th>\n",
       "      <th>latitude</th>\n",
       "      <th>longitude</th>\n",
       "      <th>free_from</th>\n",
       "      <th>doctor_to</th>\n",
       "    </tr>\n",
       "  </thead>\n",
       "  <tbody>\n",
       "    <tr>\n",
       "      <th>4</th>\n",
       "      <td>341</td>\n",
       "      <td>344.0</td>\n",
       "      <td>222.0</td>\n",
       "      <td>00:30:00</td>\n",
       "      <td>10:00:00</td>\n",
       "    </tr>\n",
       "  </tbody>\n",
       "</table>\n",
       "</div>"
      ],
      "text/plain": [
       "   doctor_id  latitude  longitude free_from doctor_to\n",
       "4        341     344.0      222.0  00:30:00  10:00:00"
      ]
     },
     "execution_count": 13,
     "metadata": {},
     "output_type": "execute_result"
    }
   ],
   "source": [
    "result2"
   ]
  },
  {
   "cell_type": "code",
   "execution_count": null,
   "metadata": {},
   "outputs": [],
   "source": []
  },
  {
   "cell_type": "code",
   "execution_count": 14,
   "metadata": {},
   "outputs": [],
   "source": [
    "lat = 370\n",
    "long = 450"
   ]
  },
  {
   "cell_type": "code",
   "execution_count": 15,
   "metadata": {},
   "outputs": [
    {
     "name": "stdout",
     "output_type": "stream",
     "text": [
      "229.47766775876036\n",
      "341\n"
     ]
    }
   ],
   "source": [
    "Min = 99999999999999999\n",
    "for index, i in result2.iterrows():\n",
    "    dist = math.sqrt((i[1] - lat)**2 + (i[2] - long)**2)\n",
    "    print(dist)\n",
    "    if dist < Min:\n",
    "        min_index = i[0]\n",
    "        Min = dist\n",
    "print(min_index)"
   ]
  },
  {
   "cell_type": "code",
   "execution_count": 16,
   "metadata": {},
   "outputs": [
    {
     "data": {
      "text/html": [
       "<div>\n",
       "<style scoped>\n",
       "    .dataframe tbody tr th:only-of-type {\n",
       "        vertical-align: middle;\n",
       "    }\n",
       "\n",
       "    .dataframe tbody tr th {\n",
       "        vertical-align: top;\n",
       "    }\n",
       "\n",
       "    .dataframe thead th {\n",
       "        text-align: right;\n",
       "    }\n",
       "</style>\n",
       "<table border=\"1\" class=\"dataframe\">\n",
       "  <thead>\n",
       "    <tr style=\"text-align: right;\">\n",
       "      <th></th>\n",
       "      <th>doctor_id</th>\n",
       "      <th>doctor_name</th>\n",
       "      <th>hosp_id</th>\n",
       "    </tr>\n",
       "  </thead>\n",
       "  <tbody>\n",
       "    <tr>\n",
       "      <th>4</th>\n",
       "      <td>341</td>\n",
       "      <td>GHI</td>\n",
       "      <td>632014</td>\n",
       "    </tr>\n",
       "  </tbody>\n",
       "</table>\n",
       "</div>"
      ],
      "text/plain": [
       "   doctor_id doctor_name  hosp_id\n",
       "4        341         GHI   632014"
      ]
     },
     "execution_count": 16,
     "metadata": {},
     "output_type": "execute_result"
    }
   ],
   "source": [
    "df = data[data['doctor_id'] == min_index][['doctor_id', 'doctor_name', 'hosp_id']]\n",
    "df"
   ]
  },
  {
   "cell_type": "code",
   "execution_count": null,
   "metadata": {},
   "outputs": [],
   "source": []
  },
  {
   "cell_type": "code",
   "execution_count": null,
   "metadata": {},
   "outputs": [],
   "source": []
  },
  {
   "cell_type": "code",
   "execution_count": null,
   "metadata": {},
   "outputs": [],
   "source": []
  }
 ],
 "metadata": {
  "kernelspec": {
   "display_name": "Python 3",
   "language": "python",
   "name": "python3"
  },
  "language_info": {
   "codemirror_mode": {
    "name": "ipython",
    "version": 3
   },
   "file_extension": ".py",
   "mimetype": "text/x-python",
   "name": "python",
   "nbconvert_exporter": "python",
   "pygments_lexer": "ipython3",
   "version": "3.6.7"
  }
 },
 "nbformat": 4,
 "nbformat_minor": 2
}
